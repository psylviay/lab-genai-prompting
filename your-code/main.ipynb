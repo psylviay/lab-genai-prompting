{
 "cells": [
  {
   "cell_type": "markdown",
   "metadata": {
    "vscode": {
     "languageId": "plaintext"
    }
   },
   "source": [
    "# LAB | GenAI: Exploring Prompting Techniques for Customer Support Automation"
   ]
  },
  {
   "cell_type": "markdown",
   "metadata": {},
   "source": [
    "## Tasks\n",
    "\n",
    "**Objective:**\n",
    "\n",
    "Learn and apply different prompting techniques to improve the performance of a language model in generating customer support responses.\n",
    "\n",
    "**Business Case:**\n",
    "\n",
    "Imagine you are working for a company that provides a variety of services, including technical support, billing inquiries, and general customer service. Your task is to use a language model to automate responses to customer emails.\n",
    "\n",
    "**Dataset:**\n",
    "\n",
    "Download the FAQ of a company to do this exercise. Below you have a couple of examples, but feel free to find your own:\n",
    " - https://info.undp.org/erecruit/documents/FAQ.pdf\n",
    " - https://www.cambridgeenglish.org/Images/696254-faqs-digital-cambridge-english-qualifications.pdf\n",
    " - https://www.wscc.nt.ca/sites/default/files/documents/0009-518-Item-04-INDESIGN-FAQ-Template%203%20-%20MINUS%20FIRST%20QUESTION.pdf\n",
    "\n",
    "\n",
    "### Task 1\n",
    "\n",
    "Download and Read the PDF:\n",
    "\n",
    "  - Choose one of the provided FAQ PDFs or find your own relevant FAQ document.\n",
    "  - Read through the FAQ document carefully to understand the types of questions and answers it contains.\n",
    "  - Create Questions Based on the PDF ( you can use ChatGPT for this)\n",
    "    - Generate a list of potential customer questions that could be answered using the information from the FAQ PDF.\n",
    "    - Ensure your questions cover a variety of topics and difficulty levels found within the document.\n",
    "    - Generate Responses Using Different Prompting Techniques:\n",
    "\n",
    "Use a language model (such as ChatGPT) to generate responses to your questions.\n",
    "Experiment with different prompting techniques to see how they affect the quality of the responses."
   ]
  },
  {
   "cell_type": "markdown",
   "metadata": {},
   "source": [
    "## Types of prompting\n",
    "\n",
    "For each of the types prompting, perform the following:\n",
    " - Research what the type of prompting is\n",
    " - Create a small explaination of the prompting\n",
    " - Test your type of prompting vs the control prompt (direct question)"
   ]
  },
  {
   "cell_type": "markdown",
   "metadata": {
    "vscode": {
     "languageId": "plaintext"
    }
   },
   "source": [
    "### Zero-Shot Prompting\n",
    "\n",
    "Use the knowledge base to create prompts without examples.\n",
    "Test the model's ability to generate accurate responses based solely on the provided instructions.\n",
    "Assess the performance compared to few-shot prompting."
   ]
  },
  {
   "cell_type": "markdown",
   "metadata": {},
   "source": [
    "## **Zero-Shot Prompting**\n",
    "\n",
    "Zero-shot prompting asks the model a question without any prior examples or context. It relies entirely on the model’s pre-trained knowledge to generate a response.\n",
    "\n",
    "**Test Question/Control Prompt**\n",
    "\n",
    "“What costs should I anticipate to comply with OHS Regulations?”\n",
    "\n",
    "**Control Response**\n",
    "\n",
    "“The cost of OHS compliance depends on the industry, business size, and existing safety measures. Expenses may include training, safety equipment, audits, and workplace modifications.”\n",
    "\n",
    "**Zero-Shot Prompt**\n",
    "\n",
    "“Provide a detailed breakdown of the costs a business owner should expect when complying with OHS Regulations, including training, equipment, and procedural costs.”\n",
    "\n",
    "**Zero-Shot Response**\n",
    "\n",
    "“Businesses must budget for OHS compliance in five key areas: \n",
    "\n",
    "(1) Employee Training – $250-$1,500 per employee, \n",
    "\n",
    "(2) Safety Equipment – $3,000-$15,000 for PPE and fire safety, \n",
    "\n",
    "(3) Audits & Inspections – $2,500-$7,000, \n",
    "\n",
    "(4) Workplace Modifications – $1,500-$5,000, \n",
    "\n",
    "(5) Ongoing Monitoring – $1,200/month. Industry-specific costs may apply.”\n",
    "\n",
    "**Key Difference**\n",
    "\n",
    "Zero-shot prompting added structure and estimated costs, making it more actionable."
   ]
  },
  {
   "cell_type": "markdown",
   "metadata": {
    "vscode": {
     "languageId": "plaintext"
    }
   },
   "source": [
    "### Few-Shot Prompting\n",
    "\n",
    "Select a few representative emails from each category.\n",
    "Create prompts by including these examples and ask the model to generate responses for new emails.\n",
    "Evaluate the quality and relevance of the responses."
   ]
  },
  {
   "cell_type": "markdown",
   "metadata": {},
   "source": [
    "## **Few Shot Prompting**\n",
    "\n",
    "Few-shot prompting provides examples before asking the model to generate a response, helping it learn from patterns.\n",
    "\n",
    "**Test Question/Control Prompt**\n",
    "\n",
    "“How do I determine what specific OHS regulations apply to my industry?”\n",
    "\n",
    "**Control Response**\n",
    "\n",
    "“You can determine applicable OHS regulations by consulting the official guidelines, industry standards, and regulatory bodies.”\n",
    "\n",
    "**Few-Shot Prompt (with Examples)**\n",
    "\n",
    "“Here are examples of how different industries determine applicable OHS regulations:\n",
    "\n",
    "1 - Construction: Reviews OSHA site safety rules and conducts job-specific hazard assessments.\n",
    "\n",
    "2 - Healthcare: Follows biohazard and patient safety protocols set by CDC and OSHA.\n",
    "\n",
    "Now, explain how a general business can determine its OHS requirements.”\n",
    "\n",
    "**Few-Shot Response**\n",
    "\n",
    "“A business should start by reviewing industry guidelines, conducting a workplace hazard assessment, and consulting regulatory bodies like OSHA. Additional steps include attending safety training programs and joining industry associations for compliance updates.”\n",
    "\n",
    "**Key Difference**: More structured, clear steps, industry-specific approach."
   ]
  },
  {
   "cell_type": "markdown",
   "metadata": {},
   "source": [
    "### Chain of Thought Prompting\n",
    "\n",
    "Develop prompts that guide the model to think through the problem step-by-step before providing the final answer.\n",
    "Analyze if this approach improves the quality of technical support responses.\n"
   ]
  },
  {
   "cell_type": "markdown",
   "metadata": {},
   "source": [
    "## **Chain of Thought (CoT) Prompting**\n",
    "\n",
    "This technique guides the model to think step-by-step, improving logical accuracy.\n",
    "\n",
    "**Test Question/Control Prompt**\n",
    "\n",
    "“What steps should I take to ensure my business is OHS compliant?”\n",
    "\n",
    "**Control Response**\n",
    "\n",
    "“Follow the regulatory requirements, train employees, and conduct regular safety checks.”\n",
    "\n",
    "**CoT Prompt**\n",
    "\n",
    "“Explain the steps a business should take to achieve OHS compliance step-by-step before providing a final summary.”\n",
    "\n",
    "**CoT Response**\n",
    "\n",
    "“1 - Identify Applicable Regulations – Check OSHA and industry-specific rules.\n",
    "\n",
    "2 - Conduct a Workplace Hazard Assessment – Identify and document risks.\n",
    "\n",
    "3 - Develop Safety Policies – Create clear workplace safety protocols.\n",
    "\n",
    "4 - Train Employees – Ensure staff understand compliance standards.\n",
    "\n",
    "5 - Implement Safety Measures – Invest in PPE and fire safety measures.\n",
    "\n",
    "6 - Monitor & Review Compliance – Conduct periodic audits and update policies.\n",
    "\n",
    "**Final Summary**\n",
    "By following these steps, businesses can ensure compliance while maintaining worker safety.”\n",
    "\n",
    "**Key Difference**: Step-by-step breakdown improves clarity and actionability."
   ]
  },
  {
   "cell_type": "markdown",
   "metadata": {},
   "source": [
    "### Instruction-Based Prompting\n",
    "\n",
    "Write clear and explicit instructions in the prompts for each type of customer inquiry.\n",
    "Measure the effectiveness of detailed instructions in guiding the model."
   ]
  },
  {
   "cell_type": "markdown",
   "metadata": {},
   "source": [
    "## **Instruction-Based Prompting**\n",
    "\n",
    "This technique uses explicit, detailed instructions to guide the model’s response.\n",
    "\n",
    "**Test Question/Control Prompt**\n",
    "\n",
    "“How can I train my employees to comply with OHS regulations?”\n",
    "\n",
    "**Control Response**\n",
    "\n",
    "“Ensure employees undergo safety training and follow regulations.”\n",
    "\n",
    "**Instruction-Based Prompt**\n",
    "\n",
    "“List three key training methods for OHS compliance, describe their benefits, and include one implementation tip for each.”\n",
    "\n",
    "**Instruction-Based Response**\n",
    "\n",
    "“1 - Classroom Training: Covers legal and safety rules. ✅ Interactive learning. 🔹 Tip: Supplement with online quizzes.\n",
    "\n",
    "2 - Hands-on Training: Practical demonstrations of workplace hazards. ✅ Ensures real-world application. 🔹 Tip: Conduct safety drills.\n",
    "\n",
    "3 -E-Learning Modules: Self-paced courses for remote employees. ✅ Cost-effective. 🔹 Tip: Track employee progress with completion certificates.”\n",
    "\n",
    "**Key Difference**: More structured, actionable, and detailed."
   ]
  },
  {
   "cell_type": "markdown",
   "metadata": {},
   "source": [
    "### Role-Playing Prompting\n",
    "\n",
    "Ask the model to respond as a customer service representative or technical support expert.\n",
    "Evaluate how well the model adopts the role and provides relevant information."
   ]
  },
  {
   "cell_type": "markdown",
   "metadata": {},
   "source": [
    "## **Role Playing - Prompting**\n",
    "\n",
    "This technique makes the model assume a role, making responses more engaging.\n",
    "\n",
    "**Test Question/Control Prompt**\n",
    "\n",
    "“What are the new OHS requirements for my industry?”\n",
    "\n",
    "**Role-Playing Prompt**\n",
    "\n",
    "“You are an OHS Safety Officer. Explain the latest requirements to a business owner.”\n",
    "\n",
    "**Role-Playing Response**\n",
    "\n",
    "*“As your OHS Safety Officer, here’s what you need to know:\n",
    "- New PPE Standards – Flame-resistant clothing is now required for certain high-risk jobs.\n",
    "    \n",
    "- Mandatory Supervisor Training – All supervisors must undergo OSHA compliance training.\n",
    "    \n",
    "- Quarterly Safety Audits – Businesses must conduct hazard assessments every three months.\n",
    "Would you like a compliance checklist?”*\n",
    "\n",
    "**Key Difference**: More professional, structured, and conversational."
   ]
  },
  {
   "cell_type": "markdown",
   "metadata": {},
   "source": [
    "### Contextual Prompting\n",
    "\n",
    "Provide relevant context from previous email threads or the knowledge base before posing the main question.\n",
    "Test if providing context improves the accuracy and relevance of the responses."
   ]
  },
  {
   "cell_type": "markdown",
   "metadata": {},
   "source": [
    "## **Zero-Shot Prompting**\n",
    "\n",
    "Provides previous context to improve response relevance.\n",
    "\n",
    "**Test Question/Control Prompt**\n",
    "\n",
    "“How can I ensure my workplace is safe for employees?”\n",
    "\n",
    "**Contextual Prompt**\n",
    "\n",
    "“Based on the latest OHS updates, explain how businesses can ensure workplace safety.”\n",
    "\n",
    "**Contextual Response**\n",
    "\n",
    "*“Given the latest updates, businesses should:\n",
    "\n",
    "1.\tUpgrade PPE to meet new regulations.\n",
    "    \n",
    "2.\tEnsure supervisors complete training by next quarter.\n",
    "    \n",
    "3.\tSchedule quarterly hazard assessments.”*\n",
    "\n",
    "**Key Difference**: More specific and relevant to recent updates."
   ]
  },
  {
   "cell_type": "markdown",
   "metadata": {},
   "source": [
    "### Conversational Prompting\n",
    "\n",
    "Create a dialogue-style prompt where the model continues an ongoing conversation with the customer.\n",
    "Observe how well the model maintains context and coherence in multi-turn conversations."
   ]
  },
  {
   "cell_type": "markdown",
   "metadata": {},
   "source": [
    "## **Conversational Prompting**\n",
    "\n",
    "Conversational prompting creates a multi-turn dialogue, allowing the model to maintain context and engage naturally over multiple exchanges.\n",
    "\n",
    "**Test Question/Control Prompt**\n",
    "\n",
    "“How do I report workplace safety incidents?”\n",
    "\n",
    "**Control Response**\n",
    "“Report safety incidents by documenting the event, notifying supervisors, and following OSHA reporting procedures.”\n",
    "\n",
    "**Conversational Prompt**\n",
    "“Simulate a conversation between a business owner and a safety officer about reporting workplace safety incidents.”\n",
    "\n",
    "**Conversational Response**\n",
    "Business Owner: “I recently had a workplace accident. What steps should I take to report it?”\n",
    "\n",
    "Safety Officer: “First, ensure that the injured employee receives medical attention. Then, document the details of the incident.”\n",
    "\n",
    "Business Owner: “Where do I report it?”\n",
    "\n",
    "Safety Officer: “You must notify your supervisor and file an official incident report. If it’s severe, report it to OSHA within 24 hours.”\n",
    "\n",
    "Business Owner: “Are there any forms required?”\n",
    "\n",
    "Safety Officer: “Yes, OSHA Form 301 must be filled out. I can provide a checklist for you if needed.”\n",
    "\n",
    "**Key Differences**\n",
    "- More interactive and engaging\n",
    "    \n",
    "- Breaks down complex information into a back-and-forth dialogue\n",
    "    \n",
    "- Maintains context across multiple turns"
   ]
  },
  {
   "cell_type": "markdown",
   "metadata": {},
   "source": [
    "### Contrastive Prompting\n",
    "\n",
    "Show the model examples of both good and bad responses.\n",
    "Use these contrasting examples to guide the model towards generating better responses.\n",
    "Compare the results with other techniques."
   ]
  },
  {
   "cell_type": "markdown",
   "metadata": {},
   "source": [
    "## **Contrastive Prompting**\n",
    "\n",
    "Contrastive prompting shows the model examples of both bad and good responses, guiding it toward generating higher-quality responses.\n",
    "\n",
    "**Test Question/Control Prompt**\n",
    "“How can I improve workplace safety?”\n",
    "\n",
    "**Control Response**\n",
    "“Follow OHS regulations and train employees.”\n",
    "\n",
    "**Contrastive Prompt**\n",
    "“Here’s a bad response: ‘Just follow regulations.’\n",
    "Here’s a good response: ‘Assess risks, provide training, and enforce safety policies.’\n",
    "Now, generate a response that improves upon the good example.”\n",
    "\n",
    "**Contrastive Response**\n",
    "“To improve workplace safety:\n",
    "\n",
    "1 - Conduct regular hazard assessments.\n",
    "\n",
    "2 - Provide hands-on safety training for employees.\n",
    "\n",
    "3 - Enforce the use of PPE and emergency protocols.\n",
    "\n",
    "4 - Establish a safety reporting system for incidents.\n",
    "\n",
    "5 - Schedule routine compliance audits to prevent violations.”\n",
    "\n",
    "**Key Difference**\n",
    "- Filters out vague responses and refines quality\n",
    "    \n",
    "- Guides the model to give structured, high-impact answers\n",
    "    \n",
    "- Ensures the final response is better than a good response"
   ]
  },
  {
   "cell_type": "markdown",
   "metadata": {},
   "source": [
    "### Specificity Prompting\n",
    "\n",
    "Ask the model to respond with a specific style, tone, or level of detail, such as formal, friendly, or concise.\n",
    "Assess how well the model adapts its responses to the specified requirements."
   ]
  },
  {
   "cell_type": "markdown",
   "metadata": {},
   "source": [
    "## **Specificity Prompting**\n",
    "\n",
    "Specificity prompting controls the style, tone, or level of detail in responses. The model is explicitly told to respond formally, casually, or concisely.\n",
    "\n",
    "**Test Question/Control Prompt**\n",
    "\n",
    "“Explain OHS regulations to a small business owner.”\n",
    "\n",
    "**Control Response**\n",
    "\n",
    "“OHS regulations require businesses to implement safety procedures, train employees, and comply with hazard assessments.”\n",
    "\n",
    "**Specificity Prompt (Casual & Simple)**\n",
    "\n",
    "“Explain OHS regulations in a friendly and simple tone, as if talking to a small business owner unfamiliar with compliance.”\n",
    "\n",
    "**Casual Response**\n",
    "\n",
    "“Hey there! Think of OHS regulations like seatbelts for your business—they keep everyone safe and prevent accidents. You’ll need to train employees, identify workplace hazards, and follow safety rules to avoid penalties. It’s not as scary as it sounds—I can walk you through it!”\n",
    "\n",
    "**Specificity Prompt (Formal & Detailed)**\n",
    "\n",
    "“Explain OHS regulations in a formal and professional tone for an HR manager.”\n",
    "\n",
    "**Formal Response**\n",
    "\n",
    "“OHS regulations mandate that businesses adhere to workplace safety protocols, including hazard assessment, employee training, and compliance audits. Companies must establish an internal safety policy, provide personal protective equipment (PPE), and maintain comprehensive safety records.”\n",
    "\n",
    "**Key Difference**\n",
    "\n",
    "- Customizes responses for different audiences\n",
    "    \n",
    "- Ensures tone and detail level match the reader’s needs\n",
    "    \n",
    "- Improves clarity and engagement for specific users"
   ]
  },
  {
   "cell_type": "markdown",
   "metadata": {},
   "source": [
    "### Iterative Refinement Prompting\n",
    "\n",
    "Ask the model to refine or improve upon its previous response.\n",
    "Experiment with multiple iterations to see if responses improve over time."
   ]
  },
  {
   "cell_type": "markdown",
   "metadata": {},
   "source": [
    "## **Iterative Refinement Prompting**\n",
    "\n",
    "This technique refines responses over multiple iterations, allowing the model to improve clarity, depth, and usefulness.\n",
    "\n",
    "**Test Question/Control Prompt**\n",
    "\n",
    "“What are the key components of an OHS compliance program?”\n",
    "\n",
    "**Control Response**\n",
    "“OHS compliance includes training, safety audits, and regulatory adherence.”\n",
    "\n",
    "**Iterative Refinement Prompt**\n",
    "\n",
    "“Generate an initial response, then refine it by improving clarity, adding structured steps, and making it more actionable.”\n",
    "\n",
    "**Iteration 1**\n",
    "\n",
    "“OHS compliance involves training employees, conducting audits, and adhering to regulations.”\n",
    "\n",
    "**Refinement Prompt**\n",
    "\n",
    "“Improve this response by organizing it into five clear steps and adding details.”\n",
    "\n",
    "**Iteration 2**\n",
    "\n",
    "“To establish an OHS compliance program:\n",
    "\n",
    "1 - Assess workplace risks – Identify hazards and evaluate risks.\n",
    "\n",
    "2 - Develop a safety policy – Outline safety responsibilities and procedures.\n",
    "\n",
    "3 - Train employees – Provide required safety training.\n",
    "\n",
    "4 - Implement control measures – Use PPE and engineering controls.\n",
    "\n",
    "5 - Monitor and improve – Conduct periodic audits and update policies.”\n",
    "\n",
    "\n",
    "**Final Refinement Prompt**\n",
    "\n",
    "“Further improve this response by adding cost considerations and legal compliance requirements.”\n",
    "\n",
    "\n",
    "**Iteration 3 (Final Response)**\n",
    "\n",
    "“To comply with OHS regulations, businesses should:\n",
    "\n",
    "1 - Assess Risks: Identify workplace hazards and conduct regular risk assessments.\n",
    "\n",
    "2 - Develop Safety Policies: Establish clear guidelines and assign safety responsibilities.\n",
    "\n",
    "3 - Employee Training: Train workers on emergency procedures and PPE use (costs range from $250-$1,500 per employee).\n",
    "\n",
    "4 - Implement Control Measures: Use PPE, safety signage, and emergency exits.\n",
    "\n",
    "5 - Ongoing Monitoring: Schedule quarterly safety audits, maintain compliance logs, and update policies as regulations evolve.”\n",
    "\n",
    "\n",
    "**Key Difference**\n",
    "\n",
    "- Each iteration enhances clarity, structure, and detail\n",
    "    \n",
    "- Final response is far superior to the first attempt\n",
    "    \n",
    "- Refines technical content into a practical, actionable format"
   ]
  }
 ],
 "metadata": {
  "kernelspec": {
   "display_name": "Python 3 (ipykernel)",
   "language": "python",
   "name": "python3"
  },
  "language_info": {
   "codemirror_mode": {
    "name": "ipython",
    "version": 3
   },
   "file_extension": ".py",
   "mimetype": "text/x-python",
   "name": "python",
   "nbconvert_exporter": "python",
   "pygments_lexer": "ipython3",
   "version": "3.12.2"
  }
 },
 "nbformat": 4,
 "nbformat_minor": 4
}
